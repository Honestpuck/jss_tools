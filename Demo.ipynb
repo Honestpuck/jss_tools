{
 "cells": [
  {
   "cell_type": "code",
   "execution_count": 1,
   "metadata": {},
   "outputs": [],
   "source": [
    "from jss_tools import *"
   ]
  },
  {
   "cell_type": "code",
   "execution_count": 2,
   "metadata": {},
   "outputs": [
    {
     "name": "stdout",
     "output_type": "stream",
     "text": [
      "········\n"
     ]
    }
   ],
   "source": [
    "j = Jopen()"
   ]
  },
  {
   "cell_type": "code",
   "execution_count": 3,
   "metadata": {},
   "outputs": [],
   "source": [
    "my_group = computergroup(j.ComputerGroup(79))"
   ]
  },
  {
   "cell_type": "code",
   "execution_count": 4,
   "metadata": {},
   "outputs": [
    {
     "data": {
      "text/plain": [
       "{'computers': [{'alt_mac_address': '72:00:03:03:E1:A0',\n",
       "   'id': '107',\n",
       "   'mac_address': '78:31:C1:D3:A5:DA',\n",
       "   'name': 'MBC02MF9CXFD57',\n",
       "   'serial': None},\n",
       "  {'alt_mac_address': '72:00:03:03:EE:70',\n",
       "   'id': '110',\n",
       "   'mac_address': '78:31:C1:D3:A9:D0',\n",
       "   'name': 'MBC02MF9BNFD57',\n",
       "   'serial': None},\n",
       "  {'alt_mac_address': '6A:00:02:26:43:60',\n",
       "   'id': '143',\n",
       "   'mac_address': '98:01:A7:92:71:43',\n",
       "   'name': 'MBC02RQANRG8WN',\n",
       "   'serial': None},\n",
       "  {'alt_mac_address': '6A:00:02:F7:77:E0',\n",
       "   'id': '229',\n",
       "   'mac_address': 'C4:B3:01:D9:87:A5',\n",
       "   'name': 'MBC02SY2YPG8WN',\n",
       "   'serial': None},\n",
       "  {'alt_mac_address': '8C:85:90:F0:14:7E',\n",
       "   'id': '263',\n",
       "   'mac_address': '78:7B:8A:AE:67:3D',\n",
       "   'name': 'MDC07VJ09YG1J1',\n",
       "   'serial': None},\n",
       "  {'alt_mac_address': 'DE:00:9C:A9:81:00',\n",
       "   'id': '308',\n",
       "   'mac_address': '8C:85:90:58:3A:47',\n",
       "   'name': 'MBC02VH5V6HTD5',\n",
       "   'serial': None},\n",
       "  {'alt_mac_address': '5A:00:24:11:CD:01',\n",
       "   'id': '309',\n",
       "   'mac_address': '8C:85:90:3B:CE:43',\n",
       "   'name': 'MBC02V956WHTD5',\n",
       "   'serial': None},\n",
       "  {'alt_mac_address': '56:00:44:D0:51:01',\n",
       "   'id': '321',\n",
       "   'mac_address': '78:4F:43:68:13:46',\n",
       "   'name': 'MBC02T54EQGTFM',\n",
       "   'serial': None},\n",
       "  {'alt_mac_address': '78:4F:43:7F:0C:2C',\n",
       "   'id': '326',\n",
       "   'mac_address': '78:4F:43:7D:30:DA',\n",
       "   'name': 'MBC02T80N8GTHX',\n",
       "   'serial': None},\n",
       "  {'alt_mac_address': '',\n",
       "   'id': '327',\n",
       "   'mac_address': '8C:85:90:4D:E6:79',\n",
       "   'name': 'MBC02VG18UHH21',\n",
       "   'serial': None},\n",
       "  {'alt_mac_address': 'DA:00:2D:3A:31:01',\n",
       "   'id': '330',\n",
       "   'mac_address': '8C:85:90:67:C0:FB',\n",
       "   'name': 'MBC02VK6AEHTD5',\n",
       "   'serial': None},\n",
       "  {'alt_mac_address': '5E:00:78:09:8F:01',\n",
       "   'id': '331',\n",
       "   'mac_address': '8C:85:90:72:76:46',\n",
       "   'name': 'MBC02VMHZZHTD5',\n",
       "   'serial': None},\n",
       "  {'alt_mac_address': '2A:00:89:88:EF:00',\n",
       "   'id': '335',\n",
       "   'mac_address': '8C:85:90:55:23:D3',\n",
       "   'name': 'MBC02VH3GBHTD5',\n",
       "   'serial': None},\n",
       "  {'alt_mac_address': '12:00:04:E1:AD:01',\n",
       "   'id': '384',\n",
       "   'mac_address': '78:4F:43:7F:EB:92',\n",
       "   'name': 'MBC02TC18PHF1R',\n",
       "   'serial': None},\n",
       "  {'alt_mac_address': '9A:00:06:40:BC:70',\n",
       "   'id': '397',\n",
       "   'mac_address': 'A4:D1:8C:D1:29:26',\n",
       "   'name': 'MBC1MQV1N9G940',\n",
       "   'serial': None},\n",
       "  {'alt_mac_address': '6A:00:03:8E:E1:A0',\n",
       "   'id': '399',\n",
       "   'mac_address': '6C:96:CF:E0:74:8F',\n",
       "   'name': 'MBC02W96BWG8WN',\n",
       "   'serial': None}],\n",
       " 'computers_count': '16',\n",
       " 'crit_count': '2',\n",
       " 'criteria': [{'and_or': 'and',\n",
       "   'name': 'Operating System',\n",
       "   'priority': '0',\n",
       "   'search_type': 'like',\n",
       "   'value': '10.13'},\n",
       "  {'and_or': 'and',\n",
       "   'name': 'Operating System Version',\n",
       "   'priority': '1',\n",
       "   'search_type': 'greater than or equal',\n",
       "   'value': '10.13.3'}],\n",
       " 'id': '79',\n",
       " 'name': 'macOS-10.13-Current',\n",
       " 'site_id': '-1',\n",
       " 'site_name': 'None',\n",
       " 'smart': True}"
      ]
     },
     "metadata": {},
     "output_type": "display_data"
    }
   ],
   "source": [
    "display(my_group)"
   ]
  },
  {
   "cell_type": "code",
   "execution_count": 7,
   "metadata": {},
   "outputs": [
    {
     "name": "stdout",
     "output_type": "stream",
     "text": [
      "Khayay.KYAWKYAWLIN@suncorp.com.au 10.13.4\n",
      "LohithKiran.PELLURI@suncorp.com.au 10.13.4\n",
      "Billy.LEI@suncorp.com.au 10.13.3\n",
      "Derek.CLARKSON@suncorp.com.au 10.13.4\n",
      " 10.13.4\n",
      "David.SEETO@suncorp.com.au 10.13.4\n",
      "Jason.THYE@suncorp.com.au 10.13.3\n",
      "Lachlan.STEWART@suncorp.com.au 10.13.4\n",
      "John.TORRISI@suncorp.com.au 10.13.3\n",
      "Rob.LUHRS@suncorp.com.au 10.13.4\n",
      "Zutao.WU@suncorp.com.au 10.13.3\n",
      "Norbert.RODE@suncorp.com.au 10.13.4\n",
      "Mark.ROOKS@suncorp.com.au 10.13.3\n",
      "Shaun.DAVEY@suncorp.com.au 10.13.3\n",
      " 10.13.3\n",
      "Tao.WANG@suncorp.com.au 10.13.4\n"
     ]
    }
   ],
   "source": [
    "for one in my_group['computers']:\n",
    "    xml = j.Computer(one['id'])\n",
    "    pydata = c_info(xml)\n",
    "    email = pydata['email']\n",
    "    os = pydata['os']\n",
    "    print email, os"
   ]
  },
  {
   "cell_type": "code",
   "execution_count": 8,
   "metadata": {},
   "outputs": [],
   "source": [
    "old_group = j.ComputerGroup(79)"
   ]
  },
  {
   "cell_type": "code",
   "execution_count": 12,
   "metadata": {},
   "outputs": [
    {
     "name": "stdout",
     "output_type": "stream",
     "text": [
      "Khayay.KYAWKYAWLIN@suncorp.com.au 10.13.4\n",
      "LohithKiran.PELLURI@suncorp.com.au 10.13.4\n",
      "Billy.LEI@suncorp.com.au 10.13.3\n",
      "Derek.CLARKSON@suncorp.com.au 10.13.4\n",
      " 10.13.4\n",
      "David.SEETO@suncorp.com.au 10.13.4\n",
      "Jason.THYE@suncorp.com.au 10.13.3\n",
      "Lachlan.STEWART@suncorp.com.au 10.13.4\n",
      "John.TORRISI@suncorp.com.au 10.13.3\n",
      "Rob.LUHRS@suncorp.com.au 10.13.4\n",
      "Zutao.WU@suncorp.com.au 10.13.3\n",
      "Norbert.RODE@suncorp.com.au 10.13.4\n",
      "Mark.ROOKS@suncorp.com.au 10.13.3\n",
      "Shaun.DAVEY@suncorp.com.au 10.13.3\n",
      " 10.13.3\n",
      "Tao.WANG@suncorp.com.au 10.13.4\n"
     ]
    }
   ],
   "source": [
    "for computer in old_group.findall('computers/computer'):\n",
    "    c_id = computer.findtext('id')\n",
    "    c_info = j.Computer(c_id)\n",
    "    email = c_info.findtext('location/email_address')\n",
    "    os = c_info.findtext('hardware/os_version')\n",
    "    print email, os"
   ]
  },
  {
   "cell_type": "code",
   "execution_count": 16,
   "metadata": {},
   "outputs": [
    {
     "ename": "TypeError",
     "evalue": "'Computer' object is not callable",
     "output_type": "error",
     "traceback": [
      "\u001b[0;31m---------------------------------------------------------------------------\u001b[0m",
      "\u001b[0;31mTypeError\u001b[0m                                 Traceback (most recent call last)",
      "\u001b[0;32m<ipython-input-16-cbc0ef7f8878>\u001b[0m in \u001b[0;36m<module>\u001b[0;34m()\u001b[0m\n\u001b[1;32m      1\u001b[0m \u001b[0;32mfor\u001b[0m \u001b[0mone\u001b[0m \u001b[0;32min\u001b[0m \u001b[0mmy_group\u001b[0m\u001b[0;34m[\u001b[0m\u001b[0;34m'computers'\u001b[0m\u001b[0;34m]\u001b[0m\u001b[0;34m:\u001b[0m\u001b[0;34m\u001b[0m\u001b[0m\n\u001b[0;32m----> 2\u001b[0;31m     \u001b[0mmac\u001b[0m \u001b[0;34m=\u001b[0m \u001b[0mc_info\u001b[0m\u001b[0;34m(\u001b[0m\u001b[0mj\u001b[0m\u001b[0;34m.\u001b[0m\u001b[0mComputer\u001b[0m\u001b[0;34m(\u001b[0m\u001b[0mone\u001b[0m\u001b[0;34m[\u001b[0m\u001b[0;34m'id'\u001b[0m\u001b[0;34m]\u001b[0m\u001b[0;34m)\u001b[0m\u001b[0;34m)\u001b[0m\u001b[0;34m\u001b[0m\u001b[0m\n\u001b[0m\u001b[1;32m      3\u001b[0m     \u001b[0;32mprint\u001b[0m \u001b[0mmac\u001b[0m\u001b[0;34m[\u001b[0m\u001b[0;34m'email'\u001b[0m\u001b[0;34m]\u001b[0m\u001b[0;34m,\u001b[0m \u001b[0mmac\u001b[0m\u001b[0;34m[\u001b[0m\u001b[0;34m'os'\u001b[0m\u001b[0;34m]\u001b[0m\u001b[0;34m\u001b[0m\u001b[0m\n",
      "\u001b[0;31mTypeError\u001b[0m: 'Computer' object is not callable"
     ]
    }
   ],
   "source": [
    "for one in my_group['computers']:\n",
    "    mac = c_info(j.Computer(one['id']))\n",
    "    print mac['email'], mac['os']"
   ]
  },
  {
   "cell_type": "code",
   "execution_count": 18,
   "metadata": {},
   "outputs": [
    {
     "ename": "TypeError",
     "evalue": "'Computer' object is not callable",
     "output_type": "error",
     "traceback": [
      "\u001b[0;31m---------------------------------------------------------------------------\u001b[0m",
      "\u001b[0;31mTypeError\u001b[0m                                 Traceback (most recent call last)",
      "\u001b[0;32m<ipython-input-18-04d507b4c2d1>\u001b[0m in \u001b[0;36m<module>\u001b[0;34m()\u001b[0m\n\u001b[0;32m----> 1\u001b[0;31m \u001b[0mc_info\u001b[0m\u001b[0;34m(\u001b[0m\u001b[0mj\u001b[0m\u001b[0;34m.\u001b[0m\u001b[0mComputer\u001b[0m\u001b[0;34m(\u001b[0m\u001b[0;34m'79'\u001b[0m\u001b[0;34m)\u001b[0m\u001b[0;34m)\u001b[0m\u001b[0;34m\u001b[0m\u001b[0m\n\u001b[0m",
      "\u001b[0;31mTypeError\u001b[0m: 'Computer' object is not callable"
     ]
    }
   ],
   "source": [
    "c_info(j.Computer('79'))"
   ]
  },
  {
   "cell_type": "code",
   "execution_count": null,
   "metadata": {},
   "outputs": [],
   "source": []
  }
 ],
 "metadata": {
  "kernelspec": {
   "display_name": "Python 2",
   "language": "python",
   "name": "python2"
  },
  "language_info": {
   "codemirror_mode": {
    "name": "ipython",
    "version": 2
   },
   "file_extension": ".py",
   "mimetype": "text/x-python",
   "name": "python",
   "nbconvert_exporter": "python",
   "pygments_lexer": "ipython2",
   "version": "2.7.14"
  }
 },
 "nbformat": 4,
 "nbformat_minor": 2
}
